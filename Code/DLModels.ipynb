{
  "cells": [
    {
      "cell_type": "markdown",
      "metadata": {
        "id": "Ni9JRtbIOXwU"
      },
      "source": [
        "# *Dataset Preprocessing*"
      ]
    },
    {
      "cell_type": "markdown",
      "metadata": {
        "id": "08_D7q2T3HZl"
      },
      "source": [
        "Necessary imports and initialize label encoder"
      ]
    },
    {
      "cell_type": "code",
      "execution_count": 14,
      "metadata": {
        "id": "CsHoIOv73PCO"
      },
      "outputs": [],
      "source": [
        "import tensorflow as tf\n",
        "import numpy as np\n",
        "import pandas as pd\n",
        "from sklearn.preprocessing import LabelEncoder\n",
        "\n",
        "le = LabelEncoder()"
      ]
    },
    {
      "cell_type": "markdown",
      "metadata": {
        "id": "JR-Fd-hz3VyF"
      },
      "source": [
        "Preprocessing training data"
      ]
    },
    {
      "cell_type": "code",
      "execution_count": 3,
      "metadata": {
        "id": "5vnuNqHFis4B"
      },
      "outputs": [],
      "source": [
        "df_train = pd.read_csv('PayLoadBitsTraining.csv')\n",
        "X_train = df_train.iloc[:, :-1].values\n",
        "y_train = df_train.iloc[:, -1].values\n",
        "\n",
        "y_train = le.fit_transform(y_train)\n",
        "\n",
        "y_train = tf.keras.utils.to_categorical(y_train)\n",
        "\n",
        "\n",
        "\n",
        "# Convert binary strings to numerical values\n",
        "X_train = np.array([list(map(int, x)) for x in X_train])\n",
        "\n",
        "# Reshape input data to fit model input shape\n",
        "X_train = X_train.reshape(X_train.shape[0], X_train.shape[1], 1)"
      ]
    },
    {
      "cell_type": "markdown",
      "metadata": {
        "id": "GOs2D-Ja3b3F"
      },
      "source": [
        "Preprocessing testing data"
      ]
    },
    {
      "cell_type": "code",
      "execution_count": 4,
      "metadata": {
        "id": "VFt4NVcKGrw9"
      },
      "outputs": [],
      "source": [
        "df_test = pd.read_csv('PayLoadBitsTesting.csv')\n",
        "X_test = df_test.iloc[:,:-1].values\n",
        "y_test = df_test.iloc[:,-1].values\n",
        "\n",
        "y_test = le.fit_transform(y_test)\n",
        "y_test = tf.keras.utils.to_categorical(y_test)\n",
        "\n",
        "X_test = np.array([list(map(int, x)) for x in X_test])\n",
        "X_test = X_test.reshape(X_test.shape[0], X_test.shape[1], 1)"
      ]
    },
    {
      "cell_type": "markdown",
      "metadata": {
        "id": "Vh_NYW5aIFeZ"
      },
      "source": [
        "# *Recall Rate*"
      ]
    },
    {
      "cell_type": "markdown",
      "metadata": {
        "id": "1YGQuR6ayhHF"
      },
      "source": [
        "Recall rate pre-processing"
      ]
    },
    {
      "cell_type": "code",
      "execution_count": 5,
      "metadata": {
        "id": "DPH4T-8aylG5"
      },
      "outputs": [],
      "source": [
        "TPFN = np.sum(y_test, axis=0)\n",
        "label = df_test['protocol'].unique()\n",
        "\n",
        "start_index= []\n",
        "y_values = y_test.argmax(axis=1)\n",
        "\n",
        "for i in range(1,len(y_test)):\n",
        "  if(y_values[i-1]!=y_values[i]):\n",
        "    start_index.append(i)\n",
        "\n",
        "start_index.append(0)\n",
        "start_index.append(len(y_test))\n",
        "start_index.sort()"
      ]
    },
    {
      "cell_type": "markdown",
      "metadata": {
        "id": "T136h-mExN9n"
      },
      "source": [
        "*Plot Graph*"
      ]
    },
    {
      "cell_type": "code",
      "execution_count": 6,
      "metadata": {
        "id": "-tO2Ng0ut-Og"
      },
      "outputs": [],
      "source": [
        "import matplotlib.pyplot as plt\n",
        "\n",
        "def plot_dict(tmp_dict,model_name):\n",
        "  labels = list(tmp_dict.keys())\n",
        "  values = list(tmp_dict.values())\n",
        "  plt.bar(labels, values)\n",
        "\n",
        "  plt.xticks(rotation = 45)\n",
        "\n",
        "  plt.title(model_name)\n",
        "  plt.xlabel('Network Protocols')\n",
        "  plt.ylabel('Recall Rate')\n",
        "\n",
        "  plt.show()\n"
      ]
    },
    {
      "cell_type": "markdown",
      "metadata": {
        "id": "R7MbhpdnxWdo"
      },
      "source": [
        "*Print Dict*"
      ]
    },
    {
      "cell_type": "code",
      "execution_count": 7,
      "metadata": {
        "id": "8Zir717Nmfdn"
      },
      "outputs": [],
      "source": [
        "def print_dict(tmp_dict):\n",
        "  print(\"\")\n",
        "  for key,value in tmp_dict.items():\n",
        "    print(f'{key}  {value}')\n"
      ]
    },
    {
      "cell_type": "markdown",
      "metadata": {
        "id": "vW4T7nBWxhMD"
      },
      "source": [
        "*Compute Recall Rate*"
      ]
    },
    {
      "cell_type": "code",
      "execution_count": 8,
      "metadata": {
        "id": "_RDaRkqGIEXc"
      },
      "outputs": [],
      "source": [
        "def compute_recall(y_pred,model_name):\n",
        "  Tp = []\n",
        "  for i in range(len(start_index)-1):\n",
        "    a = (y_pred[start_index[i]:start_index[i+1]].argmax(axis=1) == y_test[start_index[i]:start_index[i+1]].argmax(axis=1)).sum()\n",
        "\n",
        "    Tp.append(a)\n",
        "\n",
        "  recall = Tp/TPFN\n",
        "\n",
        "  recallRateDict = {}\n",
        "  for i in range(len(label)):\n",
        "    recallRateDict[label[i]] = recall[i]\n",
        "\n",
        "  print_dict(recallRateDict)\n",
        "  plot_dict(recallRateDict,model_name)"
      ]
    },
    {
      "cell_type": "markdown",
      "metadata": {
        "id": "JVyKExISS_C-"
      },
      "source": [
        "# *CNN*"
      ]
    },
    {
      "cell_type": "code",
      "execution_count": 16,
      "metadata": {
        "id": "_RX7JAslQLRr",
        "colab": {
          "base_uri": "https://localhost:8080/"
        },
        "outputId": "2967daea-053b-4dea-dcb7-83620169ae7a"
      },
      "outputs": [
        {
          "output_type": "stream",
          "name": "stdout",
          "text": [
            "Model: \"sequential_2\"\n",
            "_________________________________________________________________\n",
            " Layer (type)                Output Shape              Param #   \n",
            "=================================================================\n",
            " conv1d_2 (Conv1D)           (None, 30, 64)            256       \n",
            "                                                                 \n",
            " max_pooling1d_2 (MaxPoolin  (None, 15, 64)            0         \n",
            " g1D)                                                            \n",
            "                                                                 \n",
            " flatten_2 (Flatten)         (None, 960)               0         \n",
            "                                                                 \n",
            " dense_4 (Dense)             (None, 32)                30752     \n",
            "                                                                 \n",
            " dense_5 (Dense)             (None, 10)                330       \n",
            "                                                                 \n",
            "=================================================================\n",
            "Total params: 31338 (122.41 KB)\n",
            "Trainable params: 31338 (122.41 KB)\n",
            "Non-trainable params: 0 (0.00 Byte)\n",
            "_________________________________________________________________\n"
          ]
        }
      ],
      "source": [
        "\n",
        "CNN = tf.keras.Sequential([\n",
        "    tf.keras.layers.Conv1D(filters=64, kernel_size=3, activation='relu', input_shape=(32, 1)),\n",
        "    tf.keras.layers.MaxPooling1D(pool_size=2),\n",
        "    tf.keras.layers.Flatten(),\n",
        "    tf.keras.layers.Dense(32, activation='relu'),\n",
        "    tf.keras.layers.Dense(10, activation='softmax')\n",
        "])\n",
        "\n",
        "CNN.compile(loss='categorical_crossentropy', optimizer='adam', metrics=['accuracy'])\n",
        "\n",
        "CNN.summary()"
      ]
    },
    {
      "cell_type": "code",
      "execution_count": 10,
      "metadata": {
        "colab": {
          "base_uri": "https://localhost:8080/"
        },
        "id": "whPZcJyTED4W",
        "outputId": "fb603970-62ce-4343-ef9e-d59fb22d13ef"
      },
      "outputs": [
        {
          "output_type": "stream",
          "name": "stdout",
          "text": [
            "Epoch 1/10\n",
            "1976/1976 [==============================] - 9s 4ms/step - loss: 0.0359 - accuracy: 0.9927\n",
            "Epoch 2/10\n",
            "1976/1976 [==============================] - 6s 3ms/step - loss: 0.0025 - accuracy: 0.9996\n",
            "Epoch 3/10\n",
            "1976/1976 [==============================] - 8s 4ms/step - loss: 0.0013 - accuracy: 0.9998\n",
            "Epoch 4/10\n",
            "1976/1976 [==============================] - 6s 3ms/step - loss: 8.8391e-04 - accuracy: 0.9998\n",
            "Epoch 5/10\n",
            "1976/1976 [==============================] - 7s 4ms/step - loss: 6.4173e-04 - accuracy: 0.9998\n",
            "Epoch 6/10\n",
            "1976/1976 [==============================] - 6s 3ms/step - loss: 5.0566e-04 - accuracy: 0.9999\n",
            "Epoch 7/10\n",
            "1976/1976 [==============================] - 8s 4ms/step - loss: 5.4814e-04 - accuracy: 0.9998\n",
            "Epoch 8/10\n",
            "1976/1976 [==============================] - 7s 4ms/step - loss: 4.6971e-04 - accuracy: 0.9998\n",
            "Epoch 9/10\n",
            "1976/1976 [==============================] - 7s 4ms/step - loss: 2.9437e-04 - accuracy: 0.9999\n",
            "Epoch 10/10\n",
            "1976/1976 [==============================] - 7s 3ms/step - loss: 1.6970e-04 - accuracy: 1.0000\n"
          ]
        },
        {
          "output_type": "execute_result",
          "data": {
            "text/plain": [
              "<keras.src.callbacks.History at 0x7848f86634c0>"
            ]
          },
          "metadata": {},
          "execution_count": 10
        }
      ],
      "source": [
        "# train the model\n",
        "CNN.fit(X_train, y_train, epochs=10, batch_size=32)"
      ]
    },
    {
      "cell_type": "code",
      "execution_count": 11,
      "metadata": {
        "colab": {
          "base_uri": "https://localhost:8080/",
          "height": 766
        },
        "id": "cIohPVpDHczi",
        "outputId": "ca5fb26a-de13-4c4c-c3b5-0f8792596715"
      },
      "outputs": [
        {
          "output_type": "stream",
          "name": "stdout",
          "text": [
            "1993/1993 [==============================] - 4s 2ms/step - loss: 0.0020 - accuracy: 0.9997\n",
            "[0.0020422213710844517, 0.9997177124023438]\n",
            "1993/1993 [==============================] - 4s 2ms/step\n",
            "\n",
            "Bacnet  1.0\n",
            "Bjnp  1.0\n",
            "Bootp  1.0\n",
            "DNS  1.0\n",
            "Kerberos  0.9955423476968797\n",
            "NBNS  0.993705743509048\n",
            "NBSS  0.9945054945054945\n",
            "NTP  1.0\n",
            "QUIC  0.9456521739130435\n",
            "SSH  1.0\n"
          ]
        },
        {
          "output_type": "display_data",
          "data": {
            "text/plain": [
              "<Figure size 640x480 with 1 Axes>"
            ],
            "image/png": "[encoded data removed]"
          },
          "metadata": {}
        }
      ],
      "source": [
        "# evaluate the model\n",
        "print(CNN.evaluate(X_test, y_test))\n",
        "compute_recall(CNN.predict(X_test),'CNN')"
      ]
    },
    {
      "cell_type": "markdown",
      "metadata": {
        "id": "QVSdAhv3TBq2"
      },
      "source": [
        "# *RNN*"
      ]
    },
    {
      "cell_type": "code",
      "execution_count": 17,
      "metadata": {
        "id": "8BGyeoJlJ4P9",
        "colab": {
          "base_uri": "https://localhost:8080/"
        },
        "outputId": "fc36f7a1-4141-43ce-d38e-a72b41c5af73"
      },
      "outputs": [
        {
          "output_type": "stream",
          "name": "stdout",
          "text": [
            "Model: \"sequential_3\"\n",
            "_________________________________________________________________\n",
            " Layer (type)                Output Shape              Param #   \n",
            "=================================================================\n",
            " embedding (Embedding)       (None, 32, 32)            64        \n",
            "                                                                 \n",
            " simple_rnn (SimpleRNN)      (None, 32)                2080      \n",
            "                                                                 \n",
            " dense_6 (Dense)             (None, 10)                330       \n",
            "                                                                 \n",
            "=================================================================\n",
            "Total params: 2474 (9.66 KB)\n",
            "Trainable params: 2474 (9.66 KB)\n",
            "Non-trainable params: 0 (0.00 Byte)\n",
            "_________________________________________________________________\n"
          ]
        }
      ],
      "source": [
        "# create the RNN model\n",
        "RNN = tf.keras.Sequential([\n",
        "    tf.keras.layers.Embedding(input_dim=2, output_dim=32, input_length=32),\n",
        "    tf.keras.layers.SimpleRNN(32),\n",
        "    tf.keras.layers.Dense(10, activation='softmax')\n",
        "])\n",
        "\n",
        "# compile the model\n",
        "RNN.compile(optimizer='adam', loss='categorical_crossentropy', metrics=['accuracy'])\n",
        "RNN.summary()"
      ]
    },
    {
      "cell_type": "code",
      "execution_count": 21,
      "metadata": {
        "colab": {
          "base_uri": "https://localhost:8080/"
        },
        "id": "zknYMWvZMlJx",
        "outputId": "1ce670fc-03df-47f2-d403-a3054f7b2ba2"
      },
      "outputs": [
        {
          "output_type": "stream",
          "name": "stdout",
          "text": [
            "Epoch 1/10\n",
            "1976/1976 [==============================] - 20s 9ms/step - loss: 0.0843 - accuracy: 0.9837\n",
            "Epoch 2/10\n",
            "1976/1976 [==============================] - 20s 10ms/step - loss: 0.0137 - accuracy: 0.9969\n",
            "Epoch 3/10\n",
            "1976/1976 [==============================] - 21s 11ms/step - loss: 0.0083 - accuracy: 0.9980\n",
            "Epoch 4/10\n",
            "1976/1976 [==============================] - 20s 10ms/step - loss: 0.0046 - accuracy: 0.9991\n",
            "Epoch 5/10\n",
            "1976/1976 [==============================] - 20s 10ms/step - loss: 0.0046 - accuracy: 0.9989\n",
            "Epoch 6/10\n",
            "1976/1976 [==============================] - 19s 9ms/step - loss: 0.0035 - accuracy: 0.9992\n",
            "Epoch 7/10\n",
            "1976/1976 [==============================] - 19s 10ms/step - loss: 0.0047 - accuracy: 0.9989\n",
            "Epoch 8/10\n",
            "1976/1976 [==============================] - 20s 10ms/step - loss: 0.0017 - accuracy: 0.9997\n",
            "Epoch 9/10\n",
            "1976/1976 [==============================] - 18s 9ms/step - loss: 0.0045 - accuracy: 0.9989\n",
            "Epoch 10/10\n",
            "1976/1976 [==============================] - 20s 10ms/step - loss: 0.0028 - accuracy: 0.9994\n"
          ]
        },
        {
          "output_type": "execute_result",
          "data": {
            "text/plain": [
              "<keras.src.callbacks.History at 0x7848f536e800>"
            ]
          },
          "metadata": {},
          "execution_count": 21
        }
      ],
      "source": [
        "# train the model\n",
        "RNN.fit(X_train, y_train, epochs=10, batch_size=32)"
      ]
    },
    {
      "cell_type": "code",
      "execution_count": 22,
      "metadata": {
        "colab": {
          "base_uri": "https://localhost:8080/",
          "height": 766
        },
        "id": "V5TZOEvpLYDS",
        "outputId": "c0d731fb-5642-4497-ad74-65270a5552fa"
      },
      "outputs": [
        {
          "output_type": "stream",
          "name": "stdout",
          "text": [
            "1993/1993 [==============================] - 11s 5ms/step - loss: 0.0022 - accuracy: 0.9995\n",
            "[0.0021905384492129087, 0.9995138049125671]\n",
            "1993/1993 [==============================] - 8s 4ms/step\n",
            "\n",
            "Bacnet  1.0\n",
            "Bjnp  1.0\n",
            "Bootp  1.0\n",
            "DNS  0.999932891535945\n",
            "Kerberos  0.9925705794947994\n",
            "NBNS  0.991345397324941\n",
            "NBSS  0.9835164835164835\n",
            "NTP  1.0\n",
            "QUIC  0.9456521739130435\n",
            "SSH  1.0\n"
          ]
        },
        {
          "output_type": "display_data",
          "data": {
            "text/plain": [
              "<Figure size 640x480 with 1 Axes>"
            ],
            "image/png": "[encoded data removed]"
          },
          "metadata": {}
        }
      ],
      "source": [
        "# evaluate the model\n",
        "print(RNN.evaluate(X_test, y_test))\n",
        "compute_recall(RNN.predict(X_test),'RNN')"
      ]
    },
    {
      "cell_type": "markdown",
      "metadata": {
        "id": "hH6xhZreTD1F"
      },
      "source": [
        "# *LSTM*"
      ]
    },
    {
      "cell_type": "code",
      "execution_count": 18,
      "metadata": {
        "id": "mxPgExPwM-_9",
        "colab": {
          "base_uri": "https://localhost:8080/"
        },
        "outputId": "7bbf1d51-b9a6-4b07-e310-1b7fdcacbcb1"
      },
      "outputs": [
        {
          "output_type": "stream",
          "name": "stdout",
          "text": [
            "Model: \"sequential_4\"\n",
            "_________________________________________________________________\n",
            " Layer (type)                Output Shape              Param #   \n",
            "=================================================================\n",
            " embedding_1 (Embedding)     (None, 32, 32)            64        \n",
            "                                                                 \n",
            " lstm (LSTM)                 (None, 32)                8320      \n",
            "                                                                 \n",
            " dense_7 (Dense)             (None, 10)                330       \n",
            "                                                                 \n",
            "=================================================================\n",
            "Total params: 8714 (34.04 KB)\n",
            "Trainable params: 8714 (34.04 KB)\n",
            "Non-trainable params: 0 (0.00 Byte)\n",
            "_________________________________________________________________\n"
          ]
        }
      ],
      "source": [
        "# create the LSTM model\n",
        "LSTM = tf.keras.Sequential([\n",
        "    tf.keras.layers.Embedding(input_dim=2, output_dim=32, input_length=32),\n",
        "    tf.keras.layers.LSTM(32),\n",
        "    tf.keras.layers.Dense(10, activation='softmax')\n",
        "])\n",
        "\n",
        "# compile the model\n",
        "LSTM.compile(optimizer='adam', loss='categorical_crossentropy', metrics=['accuracy'])\n",
        "LSTM.summary();"
      ]
    },
    {
      "cell_type": "code",
      "execution_count": null,
      "metadata": {
        "colab": {
          "base_uri": "https://localhost:8080/"
        },
        "id": "2OwVAeZrN-u6",
        "outputId": "000b42da-f474-4f07-ea52-ef6f7c752320"
      },
      "outputs": [
        {
          "output_type": "stream",
          "name": "stdout",
          "text": [
            "Epoch 1/10\n",
            "1976/1976 [==============================] - 35s 17ms/step - loss: 0.1425 - accuracy: 0.9730\n",
            "Epoch 2/10\n",
            "1976/1976 [==============================] - 34s 17ms/step - loss: 0.0247 - accuracy: 0.9948\n",
            "Epoch 3/10\n",
            "1976/1976 [==============================] - 34s 17ms/step - loss: 0.0117 - accuracy: 0.9970\n",
            "Epoch 4/10\n",
            "1976/1976 [==============================] - 37s 19ms/step - loss: 0.0087 - accuracy: 0.9978\n",
            "Epoch 5/10\n",
            "1976/1976 [==============================] - 35s 18ms/step - loss: 0.0055 - accuracy: 0.9986\n",
            "Epoch 6/10\n",
            "1976/1976 [==============================] - 35s 18ms/step - loss: 0.0055 - accuracy: 0.9986\n",
            "Epoch 7/10\n",
            "1976/1976 [==============================] - 35s 18ms/step - loss: 0.0035 - accuracy: 0.9993\n",
            "Epoch 8/10\n",
            "1976/1976 [==============================] - 35s 18ms/step - loss: 0.0047 - accuracy: 0.9989\n",
            "Epoch 9/10\n",
            "1976/1976 [==============================] - 35s 18ms/step - loss: 0.0025 - accuracy: 0.9995\n",
            "Epoch 10/10\n",
            "1976/1976 [==============================] - 34s 17ms/step - loss: 0.0024 - accuracy: 0.9995\n"
          ]
        },
        {
          "output_type": "execute_result",
          "data": {
            "text/plain": [
              "<keras.callbacks.History at 0x7f5f6d995810>"
            ]
          },
          "metadata": {},
          "execution_count": 38
        }
      ],
      "source": [
        "# train the model\n",
        "LSTM.fit(X_train, y_train, epochs=10, batch_size=32)"
      ]
    },
    {
      "cell_type": "code",
      "execution_count": null,
      "metadata": {
        "colab": {
          "base_uri": "https://localhost:8080/",
          "height": 754
        },
        "id": "shr5sS8fN_xq",
        "outputId": "e8cc2999-087b-42ed-bb98-522900252d37"
      },
      "outputs": [
        {
          "output_type": "stream",
          "name": "stdout",
          "text": [
            "1993/1993 [==============================] - 12s 6ms/step - loss: 0.0057 - accuracy: 0.9988\n",
            "[0.0057276031002402306, 0.9987766742706299]\n",
            "1993/1993 [==============================] - 12s 6ms/step\n",
            "\n",
            "Bacnet  1.0\n",
            "Bjnp  1.0\n",
            "Bootp  1.0\n",
            "DNS  0.9999832228839862\n",
            "Kerberos  0.9985141158989599\n",
            "NBNS  0.9866247049567269\n",
            "NBSS  0.9120879120879121\n",
            "NTP  0.972568578553616\n",
            "QUIC  0.8260869565217391\n",
            "SSH  1.0\n"
          ]
        },
        {
          "output_type": "display_data",
          "data": {
            "text/plain": [
              "<Figure size 640x480 with 1 Axes>"
            ],
            "image/png": "[encoded data removed]"
          },
          "metadata": {}
        }
      ],
      "source": [
        "# evaluate the model\n",
        "print(LSTM.evaluate(X_test, y_test))\n",
        "compute_recall(LSTM.predict(X_test),'LSTM')"
      ]
    },
    {
      "cell_type": "markdown",
      "metadata": {
        "id": "it-xfVGpTGMd"
      },
      "source": [
        "# *GRU*"
      ]
    },
    {
      "cell_type": "code",
      "execution_count": 19,
      "metadata": {
        "id": "T_569pfiLseX",
        "colab": {
          "base_uri": "https://localhost:8080/"
        },
        "outputId": "b6a051a9-9fc6-4cd8-f001-12503c5dd441"
      },
      "outputs": [
        {
          "output_type": "stream",
          "name": "stdout",
          "text": [
            "Model: \"sequential_5\"\n",
            "_________________________________________________________________\n",
            " Layer (type)                Output Shape              Param #   \n",
            "=================================================================\n",
            " embedding_2 (Embedding)     (None, 32, 32)            64        \n",
            "                                                                 \n",
            " gru (GRU)                   (None, 32)                6336      \n",
            "                                                                 \n",
            " dense_8 (Dense)             (None, 10)                330       \n",
            "                                                                 \n",
            "=================================================================\n",
            "Total params: 6730 (26.29 KB)\n",
            "Trainable params: 6730 (26.29 KB)\n",
            "Non-trainable params: 0 (0.00 Byte)\n",
            "_________________________________________________________________\n"
          ]
        }
      ],
      "source": [
        "# create the GRU model\n",
        "GRU = tf.keras.Sequential([\n",
        "    tf.keras.layers.Embedding(input_dim=2, output_dim=32, input_length=32),\n",
        "    tf.keras.layers.GRU(32),\n",
        "    tf.keras.layers.Dense(10, activation='softmax')\n",
        "])\n",
        "\n",
        "# compile the model\n",
        "GRU.compile(optimizer='adam', loss='categorical_crossentropy', metrics=['accuracy'])\n",
        "GRU.summary()"
      ]
    },
    {
      "cell_type": "code",
      "execution_count": null,
      "metadata": {
        "colab": {
          "base_uri": "https://localhost:8080/"
        },
        "id": "EgEujP78MX6T",
        "outputId": "69b7b80e-16ca-44fb-aeb8-8f9ff3b5a396"
      },
      "outputs": [
        {
          "output_type": "stream",
          "name": "stdout",
          "text": [
            "Epoch 1/10\n",
            "1976/1976 [==============================] - 41s 19ms/step - loss: 0.1231 - accuracy: 0.9755\n",
            "Epoch 2/10\n",
            "1976/1976 [==============================] - 40s 20ms/step - loss: 0.0237 - accuracy: 0.9944\n",
            "Epoch 3/10\n",
            "1976/1976 [==============================] - 38s 19ms/step - loss: 0.0145 - accuracy: 0.9965\n",
            "Epoch 4/10\n",
            "1976/1976 [==============================] - 43s 22ms/step - loss: 0.0115 - accuracy: 0.9969\n",
            "Epoch 5/10\n",
            "1976/1976 [==============================] - 38s 19ms/step - loss: 0.0074 - accuracy: 0.9982\n",
            "Epoch 6/10\n",
            "1976/1976 [==============================] - 39s 20ms/step - loss: 0.0050 - accuracy: 0.9988\n",
            "Epoch 7/10\n",
            "1976/1976 [==============================] - 39s 20ms/step - loss: 0.0039 - accuracy: 0.9991\n",
            "Epoch 8/10\n",
            "1976/1976 [==============================] - 37s 19ms/step - loss: 0.0041 - accuracy: 0.9990\n",
            "Epoch 9/10\n",
            "1976/1976 [==============================] - 37s 19ms/step - loss: 0.0024 - accuracy: 0.9996\n",
            "Epoch 10/10\n",
            "1976/1976 [==============================] - 36s 18ms/step - loss: 0.0021 - accuracy: 0.9996\n"
          ]
        },
        {
          "output_type": "execute_result",
          "data": {
            "text/plain": [
              "<keras.callbacks.History at 0x7f5f691ada80>"
            ]
          },
          "metadata": {},
          "execution_count": 41
        }
      ],
      "source": [
        "# train the model\n",
        "GRU.fit(X_train, y_train, epochs=10, batch_size=32)"
      ]
    },
    {
      "cell_type": "code",
      "execution_count": null,
      "metadata": {
        "colab": {
          "base_uri": "https://localhost:8080/",
          "height": 754
        },
        "id": "prIt4dxuMaYc",
        "outputId": "88bd8832-f18f-48c2-e913-d15e7d79d024"
      },
      "outputs": [
        {
          "output_type": "stream",
          "name": "stdout",
          "text": [
            "1993/1993 [==============================] - 10s 5ms/step - loss: 0.0037 - accuracy: 0.9994\n",
            "[0.003664938034489751, 0.999372661113739]\n",
            "1993/1993 [==============================] - 9s 4ms/step\n",
            "\n",
            "Bacnet  1.0\n",
            "Bjnp  1.0\n",
            "Bootp  1.0\n",
            "DNS  0.9999832228839862\n",
            "Kerberos  0.9955423476968797\n",
            "NBNS  0.988985051140834\n",
            "NBSS  0.9862637362637363\n",
            "NTP  1.0\n",
            "QUIC  0.8152173913043478\n",
            "SSH  1.0\n"
          ]
        },
        {
          "output_type": "display_data",
          "data": {
            "text/plain": [
              "<Figure size 640x480 with 1 Axes>"
            ],
            "image/png": "[encoded data removed]"
          },
          "metadata": {}
        }
      ],
      "source": [
        "# evaluate the model\n",
        "print(GRU.evaluate(X_test, y_test))\n",
        "compute_recall(GRU.predict(X_test),'GRU')"
      ]
    },
    {
      "cell_type": "markdown",
      "metadata": {
        "id": "ddhgLfpKVZdu"
      },
      "source": [
        "# *ANN*"
      ]
    },
    {
      "cell_type": "code",
      "execution_count": 20,
      "metadata": {
        "id": "EB_9Ph1aDAS-",
        "colab": {
          "base_uri": "https://localhost:8080/"
        },
        "outputId": "7b4cdec3-1c2d-48d4-bf17-4dca15e886ff"
      },
      "outputs": [
        {
          "output_type": "stream",
          "name": "stdout",
          "text": [
            "Model: \"sequential_6\"\n",
            "_________________________________________________________________\n",
            " Layer (type)                Output Shape              Param #   \n",
            "=================================================================\n",
            " dense_9 (Dense)             (None, 64)                2112      \n",
            "                                                                 \n",
            " dense_10 (Dense)            (None, 32)                2080      \n",
            "                                                                 \n",
            " dense_11 (Dense)            (None, 10)                330       \n",
            "                                                                 \n",
            "=================================================================\n",
            "Total params: 4522 (17.66 KB)\n",
            "Trainable params: 4522 (17.66 KB)\n",
            "Non-trainable params: 0 (0.00 Byte)\n",
            "_________________________________________________________________\n"
          ]
        }
      ],
      "source": [
        "ANN = tf.keras.Sequential([\n",
        "    tf.keras.layers.Dense(64, activation='relu', input_shape=(32,)),\n",
        "    tf.keras.layers.Dense(32, activation='relu'),\n",
        "    tf.keras.layers.Dense(10, activation='softmax')\n",
        "])\n",
        "\n",
        "# compile the model\n",
        "ANN.compile(optimizer='adam', loss='categorical_crossentropy', metrics=['accuracy'])\n",
        "ANN.summary()"
      ]
    },
    {
      "cell_type": "code",
      "execution_count": null,
      "metadata": {
        "colab": {
          "base_uri": "https://localhost:8080/"
        },
        "id": "VU2kUH3SDEow",
        "outputId": "1058e451-035e-4c1c-ec51-ecd669d3c298"
      },
      "outputs": [
        {
          "output_type": "stream",
          "name": "stdout",
          "text": [
            "Epoch 1/10\n",
            "1976/1976 [==============================] - 4s 2ms/step - loss: 0.0621 - accuracy: 0.9873\n",
            "Epoch 2/10\n",
            "1976/1976 [==============================] - 3s 2ms/step - loss: 0.0027 - accuracy: 0.9995\n",
            "Epoch 3/10\n",
            "1976/1976 [==============================] - 3s 2ms/step - loss: 0.0015 - accuracy: 0.9997\n",
            "Epoch 4/10\n",
            "1976/1976 [==============================] - 4s 2ms/step - loss: 8.8441e-04 - accuracy: 0.9998\n",
            "Epoch 5/10\n",
            "1976/1976 [==============================] - 3s 2ms/step - loss: 6.8741e-04 - accuracy: 0.9998\n",
            "Epoch 6/10\n",
            "1976/1976 [==============================] - 3s 2ms/step - loss: 3.9757e-04 - accuracy: 0.9999\n",
            "Epoch 7/10\n",
            "1976/1976 [==============================] - 3s 2ms/step - loss: 3.1234e-04 - accuracy: 0.9999\n",
            "Epoch 8/10\n",
            "1976/1976 [==============================] - 4s 2ms/step - loss: 3.9292e-04 - accuracy: 0.9999\n",
            "Epoch 9/10\n",
            "1976/1976 [==============================] - 3s 2ms/step - loss: 2.0044e-04 - accuracy: 0.9999\n",
            "Epoch 10/10\n",
            "1976/1976 [==============================] - 3s 2ms/step - loss: 1.9602e-04 - accuracy: 0.9999\n"
          ]
        },
        {
          "output_type": "execute_result",
          "data": {
            "text/plain": [
              "<keras.callbacks.History at 0x7f5f6d50a7a0>"
            ]
          },
          "metadata": {},
          "execution_count": 44
        }
      ],
      "source": [
        "# train the model\n",
        "ANN.fit(X_train, y_train, epochs=10, batch_size=32)"
      ]
    },
    {
      "cell_type": "code",
      "execution_count": null,
      "metadata": {
        "colab": {
          "base_uri": "https://localhost:8080/",
          "height": 737
        },
        "id": "Y_g9W6PvEVUL",
        "outputId": "18c3e18e-9085-458f-a43b-cb644496f8fd"
      },
      "outputs": [
        {
          "output_type": "stream",
          "name": "stdout",
          "text": [
            "[0.002867677714675665, 0.9997177124023438]\n",
            "1993/1993 [==============================] - 3s 1ms/step\n",
            "\n",
            "Bacnet  1.0\n",
            "Bjnp  1.0\n",
            "Bootp  1.0\n",
            "DNS  1.0\n",
            "Kerberos  0.9895988112927192\n",
            "NBNS  0.99213217938631\n",
            "NBSS  0.9972527472527473\n",
            "NTP  1.0\n",
            "QUIC  1.0\n",
            "SSH  1.0\n"
          ]
        },
        {
          "output_type": "display_data",
          "data": {
            "text/plain": [
              "<Figure size 640x480 with 1 Axes>"
            ],
            "image/png": "[encoded data removed]"
          },
          "metadata": {}
        }
      ],
      "source": [
        "# evaluate the model\n",
        "print(ANN.evaluate(X_test, y_test, verbose=0))\n",
        "compute_recall(ANN.predict(X_test),'ANN')"
      ]
    }
  ],
  "metadata": {
    "colab": {
      "collapsed_sections": [
        "Vh_NYW5aIFeZ",
        "QVSdAhv3TBq2",
        "it-xfVGpTGMd"
      ],
      "provenance": []
    },
    "kernelspec": {
      "display_name": "Python 3",
      "name": "python3"
    },
    "language_info": {
      "name": "python"
    }
  },
  "nbformat": 4,
  "nbformat_minor": 0
}